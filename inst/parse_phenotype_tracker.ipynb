{
 "cells": [
  {
   "cell_type": "markdown",
   "metadata": {},
   "source": [
    "## Read cohorts workbook\n",
    "Assumptions:\n",
    " - First column is an id, coding the type of cohort. Starts with T for target, O for outcome or S for strata.\n",
    " - Second column is the cohort name\n",
    " - A column exists with the link to the cohort id on PIONEER Atlas"
   ]
  },
  {
   "cell_type": "code",
   "execution_count": 14,
   "metadata": {},
   "outputs": [],
   "source": [
    "import xlrd\n",
    "import re"
   ]
  },
  {
   "cell_type": "code",
   "execution_count": 3,
   "metadata": {},
   "outputs": [],
   "source": [
    "book = xlrd.open_workbook('OHDSI studyathon phenotype tracker.xlsx')"
   ]
  },
  {
   "cell_type": "code",
   "execution_count": 4,
   "metadata": {},
   "outputs": [],
   "source": [
    "sheet = book.sheet_by_index(0)"
   ]
  },
  {
   "cell_type": "code",
   "execution_count": 33,
   "metadata": {},
   "outputs": [],
   "source": [
    "PHENOTYPE_ID_PATTERN = re.compile(r'([TOS])(.+)')\n",
    "COHORT_LINK_PATTERN = re.compile(r'/cohortdefinition/(\\d+)')"
   ]
  },
  {
   "cell_type": "code",
   "execution_count": 36,
   "metadata": {},
   "outputs": [],
   "source": [
    "def find_cohort_atlas_id(row):\n",
    "    for col in row:\n",
    "        if not col.value:\n",
    "            continue\n",
    "        cohort_link_match = COHORT_LINK_PATTERN.search(col.value)\n",
    "        if cohort_link_match:\n",
    "            return cohort_link_match.group(1)"
   ]
  },
  {
   "cell_type": "code",
   "execution_count": 71,
   "metadata": {},
   "outputs": [
    {
     "name": "stdout",
     "output_type": "stream",
     "text": [
      "Skipped Cohort \"O8 \": No Atlas link found\n",
      "Skipped Cohort \"O9 \": No Atlas link found\n",
      "Skipped Cohort \"O13\": No Atlas link found\n"
     ]
    }
   ],
   "source": [
    "cohorts = {\n",
    "    'T': [],\n",
    "    'O': [],\n",
    "    'S': []\n",
    "}\n",
    "for rx in range(sheet.nrows):\n",
    "    row = sheet.row(rx)\n",
    "    id_match = PHENOTYPE_ID_PATTERN.search(row[0].value)\n",
    "    if not id_match:\n",
    "        continue\n",
    "\n",
    "    cohort_code = id_match.group(0)\n",
    "    cohort_type = id_match.group(1)\n",
    "    #cohort_name = f'{row[1].value}'\n",
    "    cohort_atlas_id = find_cohort_atlas_id(row)\n",
    "    cohort_atlas_name = f'[PIONEER {cohort_code}] {row[1].value}'\n",
    "    \n",
    "    if cohort_type == 'T':\n",
    "        cohort_id = 101 + len(cohorts['T'])\n",
    "    elif cohort_type == 'O':\n",
    "        cohort_id = 201 + len(cohorts['O'])\n",
    "    elif cohort_type == 'S':\n",
    "        cohort_id = 301 + len(cohorts['S'])\n",
    "        \n",
    "    if cohort_atlas_id is None:\n",
    "        print(f'Skipped Cohort \"{cohort_code:3.3}\": No Atlas link found')\n",
    "        continue\n",
    "\n",
    "    cohorts[cohort_type].append({\n",
    "        'name': cohort_id,\n",
    "        'atlasName': cohort_atlas_name,\n",
    "        'atlasId': cohort_atlas_id,\n",
    "        'cohortId': cohort_code\n",
    "    })"
   ]
  },
  {
   "cell_type": "code",
   "execution_count": 72,
   "metadata": {},
   "outputs": [
    {
     "data": {
      "text/plain": [
       "[('T', 18), ('O', 10), ('S', 38)]"
      ]
     },
     "execution_count": 72,
     "metadata": {},
     "output_type": "execute_result"
    }
   ],
   "source": [
    "[(k,len(v)) for k,v in cohorts.items()]"
   ]
  },
  {
   "cell_type": "markdown",
   "metadata": {},
   "source": [
    "## Write cohorts csv\n",
    "Write the 'CohortsToCreate' csv files for target, outcome and strata. \n",
    "Repeat for diagnostics."
   ]
  },
  {
   "cell_type": "code",
   "execution_count": 73,
   "metadata": {},
   "outputs": [],
   "source": [
    "import csv"
   ]
  },
  {
   "cell_type": "code",
   "execution_count": 74,
   "metadata": {},
   "outputs": [],
   "source": [
    "def write_cohorts_to_create(filename, rows):\n",
    "    with open(filename, 'w') as f_out:\n",
    "        writer = csv.DictWriter(f_out, fieldnames=['name', 'atlasName', 'atlasId', 'cohortId'])\n",
    "        writer.writeheader()\n",
    "        writer.writerows(rows)"
   ]
  },
  {
   "cell_type": "code",
   "execution_count": 75,
   "metadata": {},
   "outputs": [],
   "source": [
    "write_cohorts_to_create('settings/CohortsToCreateTarget.csv', cohorts['T'])"
   ]
  },
  {
   "cell_type": "code",
   "execution_count": 76,
   "metadata": {},
   "outputs": [],
   "source": [
    "write_cohorts_to_create('settings/CohortsToCreateOutcome.csv', cohorts['O'])"
   ]
  },
  {
   "cell_type": "code",
   "execution_count": 77,
   "metadata": {},
   "outputs": [],
   "source": [
    "write_cohorts_to_create('settings/CohortsToCreateStrata.csv', cohorts['S'])"
   ]
  },
  {
   "cell_type": "code",
   "execution_count": 78,
   "metadata": {},
   "outputs": [],
   "source": [
    "write_cohorts_to_create('settings/diagnostics/CohortsToCreateTarget.csv', cohorts['T'])"
   ]
  },
  {
   "cell_type": "code",
   "execution_count": 79,
   "metadata": {},
   "outputs": [],
   "source": [
    "write_cohorts_to_create('settings/diagnostics/CohortsToCreateOutcome.csv', cohorts['O'])"
   ]
  },
  {
   "cell_type": "code",
   "execution_count": 80,
   "metadata": {},
   "outputs": [],
   "source": [
    "write_cohorts_to_create('settings//diagnostics/CohortsToCreateStrata.csv', cohorts['S'])"
   ]
  },
  {
   "cell_type": "code",
   "execution_count": null,
   "metadata": {},
   "outputs": [],
   "source": []
  }
 ],
 "metadata": {
  "kernelspec": {
   "display_name": "Python 3",
   "language": "python",
   "name": "python3"
  },
  "language_info": {
   "codemirror_mode": {
    "name": "ipython",
    "version": 3
   },
   "file_extension": ".py",
   "mimetype": "text/x-python",
   "name": "python",
   "nbconvert_exporter": "python",
   "pygments_lexer": "ipython3",
   "version": "3.8.5"
  }
 },
 "nbformat": 4,
 "nbformat_minor": 4
}
