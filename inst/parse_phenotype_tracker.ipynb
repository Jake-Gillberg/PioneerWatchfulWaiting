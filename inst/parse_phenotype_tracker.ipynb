{
 "cells": [
  {
   "cell_type": "markdown",
   "metadata": {},
   "source": [
    "## Read cohorts workbook\n",
    "Assumptions:\n",
    " - First column is an id, coding the type of cohort. Starts with T for target, O for outcome or S for strata.\n",
    " - Second column is the cohort name\n",
    " - A column exists with the link to the cohort id on PIONEER Atlas"
   ]
  },
  {
   "cell_type": "code",
   "execution_count": 14,
   "metadata": {},
   "outputs": [],
   "source": [
    "import xlrd\n",
    "import re"
   ]
  },
  {
   "cell_type": "code",
   "execution_count": 3,
   "metadata": {},
   "outputs": [],
   "source": [
    "book = xlrd.open_workbook('OHDSI studyathon phenotype tracker.xlsx')"
   ]
  },
  {
   "cell_type": "code",
   "execution_count": 4,
   "metadata": {},
   "outputs": [],
   "source": [
    "sheet = book.sheet_by_index(0)"
   ]
  },
  {
   "cell_type": "code",
   "execution_count": 33,
   "metadata": {},
   "outputs": [],
   "source": [
    "PHENOTYPE_ID_PATTERN = re.compile(r'([TOS])(.+)')\n",
    "COHORT_LINK_PATTERN = re.compile(r'/cohortdefinition/(\\d+)')"
   ]
  },
  {
   "cell_type": "code",
   "execution_count": 36,
   "metadata": {},
   "outputs": [],
   "source": [
    "def find_cohort_atlas_id(row):\n",
    "    for col in row:\n",
    "        if not col.value:\n",
    "            continue\n",
    "        cohort_link_match = COHORT_LINK_PATTERN.search(col.value)\n",
    "        if cohort_link_match:\n",
    "            return cohort_link_match.group(1)"
   ]
  },
  {
   "cell_type": "code",
   "execution_count": 81,
   "metadata": {},
   "outputs": [],
   "source": [
    "id_lookup = {\n",
    "    'O1': 202,\n",
    "    'O2': 201,\n",
    "    'S31': 328,\n",
    "    'S32': 329,\n",
    "    'S33': 330,\n",
    "    'S34': 331,\n",
    "    'S35': 332,\n",
    "    'S36': 333,\n",
    "    'S28': 334,\n",
    "    'S29': 335,\n",
    "    'S30': 336,\n",
    "    'T1a': 102,\n",
    "    'T2' : 103,\n",
    "    'T2a': 104,\n",
    "    'T3.1': 105,\n",
    "    'T3.1a': 106,\n",
    "    'T3.2': 107,\n",
    "    'T3.2a': 108,\n",
    "    'T3.3': 109,\n",
    "    'T3.3a': 110,\n",
    "    'T3': 111,\n",
    "    'T3a': 112,\n",
    "    'T4.1': 113,\n",
    "    'T4.1a': 114,\n",
    "    'T4.2': 115,\n",
    "    'T4.2a': 116,\n",
    "    'T4': 117,\n",
    "    'T4a': 118\n",
    "}"
   ]
  },
  {
   "cell_type": "code",
   "execution_count": 82,
   "metadata": {},
   "outputs": [
    {
     "name": "stdout",
     "output_type": "stream",
     "text": [
      "Skipped Cohort \"O8 \": No Atlas link found\n",
      "Skipped Cohort \"O9 \": No Atlas link found\n",
      "Skipped Cohort \"O13\": No Atlas link found\n"
     ]
    }
   ],
   "source": [
    "cohorts = {\n",
    "    'T': [],\n",
    "    'O': [],\n",
    "    'S': []\n",
    "}\n",
    "for rx in range(sheet.nrows):\n",
    "    row = sheet.row(rx)\n",
    "    id_match = PHENOTYPE_ID_PATTERN.search(row[0].value)\n",
    "    if not id_match:\n",
    "        continue\n",
    "\n",
    "    cohort_code = id_match.group(0)\n",
    "    cohort_type = id_match.group(1)\n",
    "    #cohort_name = f'{row[1].value}'\n",
    "    cohort_atlas_id = find_cohort_atlas_id(row)\n",
    "    cohort_atlas_name = f'[PIONEER {cohort_code}] {row[1].value}'\n",
    "    \n",
    "    if cohort_code in id_lookup:\n",
    "        cohort_id = id_lookup.get(cohort_code)\n",
    "    elif cohort_type == 'T':\n",
    "        cohort_id = 101 + len(cohorts['T'])\n",
    "    elif cohort_type == 'O':\n",
    "        cohort_id = 201 + len(cohorts['O'])\n",
    "    elif cohort_type == 'S':\n",
    "        cohort_id = 301 + len(cohorts['S'])\n",
    "        \n",
    "    if cohort_atlas_id is None:\n",
    "        print(f'Skipped Cohort \"{cohort_code:3.3}\": No Atlas link found')\n",
    "        continue\n",
    "\n",
    "    cohorts[cohort_type].append({\n",
    "        'name': cohort_id,\n",
    "        'atlasName': cohort_atlas_name,\n",
    "        'atlasId': cohort_atlas_id,\n",
    "        'cohortId': cohort_code\n",
    "    })"
   ]
  },
  {
   "cell_type": "code",
   "execution_count": 83,
   "metadata": {},
   "outputs": [
    {
     "data": {
      "text/plain": [
       "[('T', 18), ('O', 10), ('S', 38)]"
      ]
     },
     "execution_count": 83,
     "metadata": {},
     "output_type": "execute_result"
    }
   ],
   "source": [
    "[(k,len(v)) for k,v in cohorts.items()]"
   ]
  },
  {
   "cell_type": "markdown",
   "metadata": {},
   "source": [
    "## Write cohorts csv\n",
    "Write the 'CohortsToCreate' csv files for target, outcome and strata. \n",
    "Repeat for diagnostics."
   ]
  },
  {
   "cell_type": "code",
   "execution_count": 84,
   "metadata": {},
   "outputs": [],
   "source": [
    "import csv"
   ]
  },
  {
   "cell_type": "code",
   "execution_count": 85,
   "metadata": {},
   "outputs": [],
   "source": [
    "def write_cohorts_to_create(filename, rows):\n",
    "    with open(filename, 'w') as f_out:\n",
    "        writer = csv.DictWriter(f_out, fieldnames=['name', 'atlasName', 'atlasId', 'cohortId'])\n",
    "        writer.writeheader()\n",
    "        writer.writerows(rows)"
   ]
  },
  {
   "cell_type": "code",
   "execution_count": 86,
   "metadata": {},
   "outputs": [],
   "source": [
    "write_cohorts_to_create('settings/CohortsToCreateTarget.csv', cohorts['T'])"
   ]
  },
  {
   "cell_type": "code",
   "execution_count": 87,
   "metadata": {},
   "outputs": [],
   "source": [
    "write_cohorts_to_create('settings/CohortsToCreateOutcome.csv', cohorts['O'])"
   ]
  },
  {
   "cell_type": "code",
   "execution_count": 88,
   "metadata": {},
   "outputs": [],
   "source": [
    "write_cohorts_to_create('settings/CohortsToCreateStrata.csv', cohorts['S'])"
   ]
  },
  {
   "cell_type": "code",
   "execution_count": 89,
   "metadata": {},
   "outputs": [],
   "source": [
    "write_cohorts_to_create('settings/diagnostics/CohortsToCreateTarget.csv', cohorts['T'])"
   ]
  },
  {
   "cell_type": "code",
   "execution_count": 90,
   "metadata": {},
   "outputs": [],
   "source": [
    "write_cohorts_to_create('settings/diagnostics/CohortsToCreateOutcome.csv', cohorts['O'])"
   ]
  },
  {
   "cell_type": "code",
   "execution_count": 91,
   "metadata": {},
   "outputs": [],
   "source": [
    "write_cohorts_to_create('settings//diagnostics/CohortsToCreateStrata.csv', cohorts['S'])"
   ]
  },
  {
   "cell_type": "code",
   "execution_count": null,
   "metadata": {},
   "outputs": [],
   "source": []
  }
 ],
 "metadata": {
  "kernelspec": {
   "display_name": "Python 3",
   "language": "python",
   "name": "python3"
  },
  "language_info": {
   "codemirror_mode": {
    "name": "ipython",
    "version": 3
   },
   "file_extension": ".py",
   "mimetype": "text/x-python",
   "name": "python",
   "nbconvert_exporter": "python",
   "pygments_lexer": "ipython3",
   "version": "3.8.5"
  }
 },
 "nbformat": 4,
 "nbformat_minor": 4
}
